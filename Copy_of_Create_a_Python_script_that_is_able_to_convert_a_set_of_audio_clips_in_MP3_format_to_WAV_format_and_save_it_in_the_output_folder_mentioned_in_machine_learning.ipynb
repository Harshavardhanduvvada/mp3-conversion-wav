{
  "nbformat": 4,
  "nbformat_minor": 0,
  "metadata": {
    "colab": {
      "provenance": []
    },
    "kernelspec": {
      "name": "python3",
      "display_name": "Python 3"
    },
    "language_info": {
      "name": "python"
    }
  },
  "cells": [
    {
      "cell_type": "code",
      "source": [
        "from google.colab import drive\n",
        "drive.mount('/content/drive')"
      ],
      "metadata": {
        "colab": {
          "base_uri": "https://localhost:8080/"
        },
        "id": "W447HyyEgIWA",
        "outputId": "9fdb2b9b-52ce-4147-f57f-812002d3a5bc"
      },
      "execution_count": null,
      "outputs": [
        {
          "output_type": "stream",
          "name": "stdout",
          "text": [
            "Mounted at /content/drive\n"
          ]
        }
      ]
    },
    {
      "cell_type": "code",
      "source": [
        "import warnings\n",
        "warnings.filterwarnings('ignore')"
      ],
      "metadata": {
        "id": "tkYPiPQigQ5P"
      },
      "execution_count": null,
      "outputs": []
    },
    {
      "cell_type": "code",
      "execution_count": null,
      "metadata": {
        "colab": {
          "base_uri": "https://localhost:8080/"
        },
        "id": "exJdnNVqdwSx",
        "outputId": "39838cee-f2e2-4b51-ad85-1b8063d76460"
      },
      "outputs": [
        {
          "output_type": "stream",
          "name": "stdout",
          "text": [
            "Conversion complete!\n"
          ]
        }
      ],
      "source": [
        "import os\n",
        "import subprocess\n",
        "\n",
        "# Set the input and output directories\n",
        "input_dir = \"/content/drive/MyDrive/input\"\n",
        "output_dir = \"/content/drive/MyDrive/input\"\n",
        "\n",
        "# Create the output directory if it doesn't exist\n",
        "if not os.path.exists(output_dir):\n",
        "    os.makedirs(output_dir)\n",
        "\n",
        "# Loop through all the MP3 files in the input directory\n",
        "for filename in os.listdir(input_dir):\n",
        "    if filename.endswith(\".mp3\"):\n",
        "        # Set the input and output file paths\n",
        "        input_path = os.path.join(input_dir, filename)\n",
        "        output_path = os.path.join(output_dir, os.path.splitext(filename)[0] + \".wav\")\n",
        "\n",
        "        # Convert the MP3 file to WAV using FFmpeg\n",
        "        subprocess.run([\"ffmpeg\", \"-i\", input_path, \"-acodec\", \"pcm_s16le\", \"-ar\", \"44100\", output_path])\n",
        "\n",
        "print(\"Conversion complete!\")"
      ]
    }
  ]
}